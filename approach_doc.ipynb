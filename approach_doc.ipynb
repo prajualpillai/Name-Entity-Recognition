{
 "cells": [
  {
   "attachments": {},
   "cell_type": "markdown",
   "metadata": {},
   "source": [
    "# High-Level Workflow"
   ]
  },
  {
   "attachments": {},
   "cell_type": "markdown",
   "metadata": {},
   "source": [
    "We will discuss the high-level steps required for the NER problem:\n",
    "\n",
    "1. Fetch the data for training: \n",
    "    - Fetch data in pdf or csv format\n",
    "    - Source the data from public documents or create synthetic data\n",
    "\n",
    "2. Identify key-value pairs to be extracted\n",
    "    - Quantity: Integer followed by a unit\n",
    "    - Unit: Generally precceded by a number(not necessary)\n",
    "    - Product: Can be any random product, depends on the dataset to include these products\n",
    "    - Currency: String, dataset depended\n",
    "    - Rate Price: Decimal value, can be an integer as well, generally preceeded by a currency\n",
    "    - Country: String, dataset depended\n",
    "\n",
    "3. Cleaning the data:\n",
    "    - The data will be in the form of csv/pdf file\n",
    "    - Convert the data into text format\n",
    "    - Pre-process the data to remove \"\\n\" and any other un-necessary characters\n",
    "\n",
    "4. Generate key-value data:\n",
    "    - Load the cleaned .txt files to Label-Studio\n",
    "    - Identify key-value pairs and label them\n",
    "    - Save the labelled data\n",
    "\n",
    "3. Architecture to be used: Code base will be split into three parts - \n",
    "    - Pre-processing\n",
    "    - Training\n",
    "    - Deployment\n",
    "\n",
    "4. Model approach: We can move forward with two approaches depending on the data\n",
    "    - If data has all the key-value pairs:\n",
    "        - One single model for all the key-value pais\n",
    "    - If data doesn't have all the keys necessary\n",
    "        - Seaparate models for separate key-value pairs \n",
    "        - Each model will have its own key-value pair"
   ]
  },
  {
   "cell_type": "markdown",
   "metadata": {},
   "source": []
  }
 ],
 "metadata": {
  "kernelspec": {
   "display_name": "Python 3.9.16",
   "language": "python",
   "name": "python3"
  },
  "language_info": {
   "codemirror_mode": {
    "name": "ipython",
    "version": 3
   },
   "file_extension": ".py",
   "mimetype": "text/x-python",
   "name": "python",
   "nbconvert_exporter": "python",
   "pygments_lexer": "ipython3",
   "version": "3.9.16"
  },
  "orig_nbformat": 4,
  "vscode": {
   "interpreter": {
    "hash": "a09a259b3deea77ce81e400f2432aa45f0ade5f76ece4a5b15b7853c2ebc9626"
   }
  }
 },
 "nbformat": 4,
 "nbformat_minor": 2
}
